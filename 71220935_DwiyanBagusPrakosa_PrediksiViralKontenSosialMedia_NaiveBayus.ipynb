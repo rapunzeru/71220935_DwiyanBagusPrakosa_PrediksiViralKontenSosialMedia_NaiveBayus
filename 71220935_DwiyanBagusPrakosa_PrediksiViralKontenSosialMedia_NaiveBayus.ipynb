{
  "nbformat": 4,
  "nbformat_minor": 0,
  "metadata": {
    "colab": {
      "provenance": []
    },
    "kernelspec": {
      "name": "python3",
      "display_name": "Python 3"
    },
    "language_info": {
      "name": "python"
    }
  },
  "cells": [
    {
      "cell_type": "markdown",
      "source": [
        "import library yang dibutuhkan"
      ],
      "metadata": {
        "id": "QfpSVZQ7S6EB"
      }
    },
    {
      "cell_type": "code",
      "execution_count": 50,
      "metadata": {
        "id": "WkGnlpEbEsdC"
      },
      "outputs": [],
      "source": [
        "import pandas as pd\n",
        "from tqdm import tqdm\n",
        "import numpy as np\n",
        "from google.colab import drive\n",
        "import matplotlib.pyplot as plt\n",
        "import seaborn as sns\n",
        "from sklearn.naive_bayes import GaussianNB\n",
        "from sklearn.linear_model import LinearRegression\n",
        "from sklearn.preprocessing import MinMaxScaler, StandardScaler\n",
        "from sklearn.model_selection import train_test_split, cross_val_score, KFold, GridSearchCV\n",
        "from sklearn.ensemble import RandomForestClassifier, RandomForestRegressor\n",
        "from sklearn.metrics import classification_report, confusion_matrix, mean_absolute_error, mean_squared_error, r2_score, make_scorer, accuracy_score, precision_score\n",
        "from xgboost import XGBRegressor\n",
        "from sklearn.impute import SimpleImputer"
      ]
    },
    {
      "cell_type": "markdown",
      "source": [
        "baca file CSV yang ada pada sampe_data"
      ],
      "metadata": {
        "id": "3B0o4xl4TWJF"
      }
    },
    {
      "cell_type": "code",
      "source": [
        "file = '/content/sample_data/[Dataset]_(Viral_Konten_MedSos).csv'\n",
        "df = pd.read_csv(file)\n",
        "df.info()"
      ],
      "metadata": {
        "colab": {
          "base_uri": "https://localhost:8080/"
        },
        "id": "0Lca3odpF42y",
        "outputId": "f02aa061-dd85-4b8d-fd26-278dba78bdd5"
      },
      "execution_count": 6,
      "outputs": [
        {
          "output_type": "stream",
          "name": "stdout",
          "text": [
            "<class 'pandas.core.frame.DataFrame'>\n",
            "RangeIndex: 1722 entries, 0 to 1721\n",
            "Data columns (total 61 columns):\n",
            " #   Column                          Non-Null Count  Dtype  \n",
            "---  ------                          --------------  -----  \n",
            " 0   url                             1722 non-null   object \n",
            " 1    timedelta                      1722 non-null   float64\n",
            " 2    n_tokens_title                 1722 non-null   float64\n",
            " 3    n_tokens_content               1722 non-null   float64\n",
            " 4    n_unique_tokens                1722 non-null   float64\n",
            " 5    n_non_stop_words               1722 non-null   float64\n",
            " 6    n_non_stop_unique_tokens       1722 non-null   float64\n",
            " 7    num_hrefs                      1722 non-null   float64\n",
            " 8    num_self_hrefs                 1722 non-null   float64\n",
            " 9    num_imgs                       1722 non-null   float64\n",
            " 10   num_videos                     1722 non-null   float64\n",
            " 11   average_token_length           1722 non-null   float64\n",
            " 12   num_keywords                   1722 non-null   float64\n",
            " 13   data_channel_is_lifestyle      1722 non-null   float64\n",
            " 14   data_channel_is_entertainment  1722 non-null   float64\n",
            " 15   data_channel_is_bus            1722 non-null   float64\n",
            " 16   data_channel_is_socmed         1722 non-null   float64\n",
            " 17   data_channel_is_tech           1722 non-null   float64\n",
            " 18   data_channel_is_world          1722 non-null   float64\n",
            " 19   kw_min_min                     1722 non-null   float64\n",
            " 20   kw_max_min                     1722 non-null   float64\n",
            " 21   kw_avg_min                     1722 non-null   float64\n",
            " 22   kw_min_max                     1722 non-null   float64\n",
            " 23   kw_max_max                     1722 non-null   float64\n",
            " 24   kw_avg_max                     1722 non-null   float64\n",
            " 25   kw_min_avg                     1722 non-null   float64\n",
            " 26   kw_max_avg                     1722 non-null   float64\n",
            " 27   kw_avg_avg                     1722 non-null   float64\n",
            " 28   self_reference_min_shares      1722 non-null   float64\n",
            " 29   self_reference_max_shares      1722 non-null   float64\n",
            " 30   self_reference_avg_sharess     1722 non-null   float64\n",
            " 31   weekday_is_monday              1722 non-null   float64\n",
            " 32   weekday_is_tuesday             1722 non-null   float64\n",
            " 33   weekday_is_wednesday           1722 non-null   float64\n",
            " 34   weekday_is_thursday            1722 non-null   float64\n",
            " 35   weekday_is_friday              1722 non-null   float64\n",
            " 36   weekday_is_saturday            1722 non-null   float64\n",
            " 37   weekday_is_sunday              1722 non-null   float64\n",
            " 38   is_weekend                     1721 non-null   float64\n",
            " 39   LDA_00                         1721 non-null   float64\n",
            " 40   LDA_01                         1721 non-null   float64\n",
            " 41   LDA_02                         1721 non-null   float64\n",
            " 42   LDA_03                         1721 non-null   float64\n",
            " 43   LDA_04                         1721 non-null   float64\n",
            " 44   global_subjectivity            1721 non-null   float64\n",
            " 45   global_sentiment_polarity      1721 non-null   float64\n",
            " 46   global_rate_positive_words     1721 non-null   float64\n",
            " 47   global_rate_negative_words     1721 non-null   float64\n",
            " 48   rate_positive_words            1721 non-null   float64\n",
            " 49   rate_negative_words            1721 non-null   float64\n",
            " 50   avg_positive_polarity          1721 non-null   float64\n",
            " 51   min_positive_polarity          1721 non-null   float64\n",
            " 52   max_positive_polarity          1721 non-null   float64\n",
            " 53   avg_negative_polarity          1721 non-null   float64\n",
            " 54   min_negative_polarity          1721 non-null   float64\n",
            " 55   max_negative_polarity          1721 non-null   float64\n",
            " 56   title_subjectivity             1721 non-null   float64\n",
            " 57   title_sentiment_polarity       1721 non-null   float64\n",
            " 58   abs_title_subjectivity         1721 non-null   float64\n",
            " 59   abs_title_sentiment_polarity   1721 non-null   float64\n",
            " 60   shares                         1721 non-null   float64\n",
            "dtypes: float64(60), object(1)\n",
            "memory usage: 820.8+ KB\n"
          ]
        }
      ]
    },
    {
      "cell_type": "code",
      "source": [
        "contentdf = df.copy()\n",
        "contentdf.head()"
      ],
      "metadata": {
        "colab": {
          "base_uri": "https://localhost:8080/",
          "height": 364
        },
        "id": "aFrhdr6GG1MW",
        "outputId": "b4ee67a3-eb3b-492e-a38a-0e8f34fb0bf2"
      },
      "execution_count": 7,
      "outputs": [
        {
          "output_type": "execute_result",
          "data": {
            "text/plain": [
              "                                                 url   timedelta  \\\n",
              "0  http://mashable.com/2013/01/07/amazon-instant-...       731.0   \n",
              "1  http://mashable.com/2013/01/07/ap-samsung-spon...       731.0   \n",
              "2  http://mashable.com/2013/01/07/apple-40-billio...       731.0   \n",
              "3  http://mashable.com/2013/01/07/astronaut-notre...       731.0   \n",
              "4   http://mashable.com/2013/01/07/att-u-verse-apps/       731.0   \n",
              "\n",
              "    n_tokens_title   n_tokens_content   n_unique_tokens   n_non_stop_words  \\\n",
              "0             12.0              219.0          0.663594                1.0   \n",
              "1              9.0              255.0          0.604743                1.0   \n",
              "2              9.0              211.0          0.575130                1.0   \n",
              "3              9.0              531.0          0.503788                1.0   \n",
              "4             13.0             1072.0          0.415646                1.0   \n",
              "\n",
              "    n_non_stop_unique_tokens   num_hrefs   num_self_hrefs   num_imgs  ...  \\\n",
              "0                   0.815385         4.0              2.0        1.0  ...   \n",
              "1                   0.791946         3.0              1.0        1.0  ...   \n",
              "2                   0.663866         3.0              1.0        1.0  ...   \n",
              "3                   0.665635         9.0              0.0        1.0  ...   \n",
              "4                   0.540890        19.0             19.0       20.0  ...   \n",
              "\n",
              "    min_positive_polarity   max_positive_polarity   avg_negative_polarity  \\\n",
              "0                0.100000                     0.7               -0.350000   \n",
              "1                0.033333                     0.7               -0.118750   \n",
              "2                0.100000                     1.0               -0.466667   \n",
              "3                0.136364                     0.8               -0.369697   \n",
              "4                0.033333                     1.0               -0.220192   \n",
              "\n",
              "    min_negative_polarity   max_negative_polarity   title_subjectivity  \\\n",
              "0                  -0.600               -0.200000             0.500000   \n",
              "1                  -0.125               -0.100000             0.000000   \n",
              "2                  -0.800               -0.133333             0.000000   \n",
              "3                  -0.600               -0.166667             0.000000   \n",
              "4                  -0.500               -0.050000             0.454545   \n",
              "\n",
              "    title_sentiment_polarity   abs_title_subjectivity  \\\n",
              "0                  -0.187500                 0.000000   \n",
              "1                   0.000000                 0.500000   \n",
              "2                   0.000000                 0.500000   \n",
              "3                   0.000000                 0.500000   \n",
              "4                   0.136364                 0.045455   \n",
              "\n",
              "    abs_title_sentiment_polarity   shares  \n",
              "0                       0.187500    593.0  \n",
              "1                       0.000000    711.0  \n",
              "2                       0.000000   1500.0  \n",
              "3                       0.000000   1200.0  \n",
              "4                       0.136364    505.0  \n",
              "\n",
              "[5 rows x 61 columns]"
            ],
            "text/html": [
              "\n",
              "  <div id=\"df-ed0ee540-683a-4945-8884-3260c92ef000\" class=\"colab-df-container\">\n",
              "    <div>\n",
              "<style scoped>\n",
              "    .dataframe tbody tr th:only-of-type {\n",
              "        vertical-align: middle;\n",
              "    }\n",
              "\n",
              "    .dataframe tbody tr th {\n",
              "        vertical-align: top;\n",
              "    }\n",
              "\n",
              "    .dataframe thead th {\n",
              "        text-align: right;\n",
              "    }\n",
              "</style>\n",
              "<table border=\"1\" class=\"dataframe\">\n",
              "  <thead>\n",
              "    <tr style=\"text-align: right;\">\n",
              "      <th></th>\n",
              "      <th>url</th>\n",
              "      <th>timedelta</th>\n",
              "      <th>n_tokens_title</th>\n",
              "      <th>n_tokens_content</th>\n",
              "      <th>n_unique_tokens</th>\n",
              "      <th>n_non_stop_words</th>\n",
              "      <th>n_non_stop_unique_tokens</th>\n",
              "      <th>num_hrefs</th>\n",
              "      <th>num_self_hrefs</th>\n",
              "      <th>num_imgs</th>\n",
              "      <th>...</th>\n",
              "      <th>min_positive_polarity</th>\n",
              "      <th>max_positive_polarity</th>\n",
              "      <th>avg_negative_polarity</th>\n",
              "      <th>min_negative_polarity</th>\n",
              "      <th>max_negative_polarity</th>\n",
              "      <th>title_subjectivity</th>\n",
              "      <th>title_sentiment_polarity</th>\n",
              "      <th>abs_title_subjectivity</th>\n",
              "      <th>abs_title_sentiment_polarity</th>\n",
              "      <th>shares</th>\n",
              "    </tr>\n",
              "  </thead>\n",
              "  <tbody>\n",
              "    <tr>\n",
              "      <th>0</th>\n",
              "      <td>http://mashable.com/2013/01/07/amazon-instant-...</td>\n",
              "      <td>731.0</td>\n",
              "      <td>12.0</td>\n",
              "      <td>219.0</td>\n",
              "      <td>0.663594</td>\n",
              "      <td>1.0</td>\n",
              "      <td>0.815385</td>\n",
              "      <td>4.0</td>\n",
              "      <td>2.0</td>\n",
              "      <td>1.0</td>\n",
              "      <td>...</td>\n",
              "      <td>0.100000</td>\n",
              "      <td>0.7</td>\n",
              "      <td>-0.350000</td>\n",
              "      <td>-0.600</td>\n",
              "      <td>-0.200000</td>\n",
              "      <td>0.500000</td>\n",
              "      <td>-0.187500</td>\n",
              "      <td>0.000000</td>\n",
              "      <td>0.187500</td>\n",
              "      <td>593.0</td>\n",
              "    </tr>\n",
              "    <tr>\n",
              "      <th>1</th>\n",
              "      <td>http://mashable.com/2013/01/07/ap-samsung-spon...</td>\n",
              "      <td>731.0</td>\n",
              "      <td>9.0</td>\n",
              "      <td>255.0</td>\n",
              "      <td>0.604743</td>\n",
              "      <td>1.0</td>\n",
              "      <td>0.791946</td>\n",
              "      <td>3.0</td>\n",
              "      <td>1.0</td>\n",
              "      <td>1.0</td>\n",
              "      <td>...</td>\n",
              "      <td>0.033333</td>\n",
              "      <td>0.7</td>\n",
              "      <td>-0.118750</td>\n",
              "      <td>-0.125</td>\n",
              "      <td>-0.100000</td>\n",
              "      <td>0.000000</td>\n",
              "      <td>0.000000</td>\n",
              "      <td>0.500000</td>\n",
              "      <td>0.000000</td>\n",
              "      <td>711.0</td>\n",
              "    </tr>\n",
              "    <tr>\n",
              "      <th>2</th>\n",
              "      <td>http://mashable.com/2013/01/07/apple-40-billio...</td>\n",
              "      <td>731.0</td>\n",
              "      <td>9.0</td>\n",
              "      <td>211.0</td>\n",
              "      <td>0.575130</td>\n",
              "      <td>1.0</td>\n",
              "      <td>0.663866</td>\n",
              "      <td>3.0</td>\n",
              "      <td>1.0</td>\n",
              "      <td>1.0</td>\n",
              "      <td>...</td>\n",
              "      <td>0.100000</td>\n",
              "      <td>1.0</td>\n",
              "      <td>-0.466667</td>\n",
              "      <td>-0.800</td>\n",
              "      <td>-0.133333</td>\n",
              "      <td>0.000000</td>\n",
              "      <td>0.000000</td>\n",
              "      <td>0.500000</td>\n",
              "      <td>0.000000</td>\n",
              "      <td>1500.0</td>\n",
              "    </tr>\n",
              "    <tr>\n",
              "      <th>3</th>\n",
              "      <td>http://mashable.com/2013/01/07/astronaut-notre...</td>\n",
              "      <td>731.0</td>\n",
              "      <td>9.0</td>\n",
              "      <td>531.0</td>\n",
              "      <td>0.503788</td>\n",
              "      <td>1.0</td>\n",
              "      <td>0.665635</td>\n",
              "      <td>9.0</td>\n",
              "      <td>0.0</td>\n",
              "      <td>1.0</td>\n",
              "      <td>...</td>\n",
              "      <td>0.136364</td>\n",
              "      <td>0.8</td>\n",
              "      <td>-0.369697</td>\n",
              "      <td>-0.600</td>\n",
              "      <td>-0.166667</td>\n",
              "      <td>0.000000</td>\n",
              "      <td>0.000000</td>\n",
              "      <td>0.500000</td>\n",
              "      <td>0.000000</td>\n",
              "      <td>1200.0</td>\n",
              "    </tr>\n",
              "    <tr>\n",
              "      <th>4</th>\n",
              "      <td>http://mashable.com/2013/01/07/att-u-verse-apps/</td>\n",
              "      <td>731.0</td>\n",
              "      <td>13.0</td>\n",
              "      <td>1072.0</td>\n",
              "      <td>0.415646</td>\n",
              "      <td>1.0</td>\n",
              "      <td>0.540890</td>\n",
              "      <td>19.0</td>\n",
              "      <td>19.0</td>\n",
              "      <td>20.0</td>\n",
              "      <td>...</td>\n",
              "      <td>0.033333</td>\n",
              "      <td>1.0</td>\n",
              "      <td>-0.220192</td>\n",
              "      <td>-0.500</td>\n",
              "      <td>-0.050000</td>\n",
              "      <td>0.454545</td>\n",
              "      <td>0.136364</td>\n",
              "      <td>0.045455</td>\n",
              "      <td>0.136364</td>\n",
              "      <td>505.0</td>\n",
              "    </tr>\n",
              "  </tbody>\n",
              "</table>\n",
              "<p>5 rows × 61 columns</p>\n",
              "</div>\n",
              "    <div class=\"colab-df-buttons\">\n",
              "\n",
              "  <div class=\"colab-df-container\">\n",
              "    <button class=\"colab-df-convert\" onclick=\"convertToInteractive('df-ed0ee540-683a-4945-8884-3260c92ef000')\"\n",
              "            title=\"Convert this dataframe to an interactive table.\"\n",
              "            style=\"display:none;\">\n",
              "\n",
              "  <svg xmlns=\"http://www.w3.org/2000/svg\" height=\"24px\" viewBox=\"0 -960 960 960\">\n",
              "    <path d=\"M120-120v-720h720v720H120Zm60-500h600v-160H180v160Zm220 220h160v-160H400v160Zm0 220h160v-160H400v160ZM180-400h160v-160H180v160Zm440 0h160v-160H620v160ZM180-180h160v-160H180v160Zm440 0h160v-160H620v160Z\"/>\n",
              "  </svg>\n",
              "    </button>\n",
              "\n",
              "  <style>\n",
              "    .colab-df-container {\n",
              "      display:flex;\n",
              "      gap: 12px;\n",
              "    }\n",
              "\n",
              "    .colab-df-convert {\n",
              "      background-color: #E8F0FE;\n",
              "      border: none;\n",
              "      border-radius: 50%;\n",
              "      cursor: pointer;\n",
              "      display: none;\n",
              "      fill: #1967D2;\n",
              "      height: 32px;\n",
              "      padding: 0 0 0 0;\n",
              "      width: 32px;\n",
              "    }\n",
              "\n",
              "    .colab-df-convert:hover {\n",
              "      background-color: #E2EBFA;\n",
              "      box-shadow: 0px 1px 2px rgba(60, 64, 67, 0.3), 0px 1px 3px 1px rgba(60, 64, 67, 0.15);\n",
              "      fill: #174EA6;\n",
              "    }\n",
              "\n",
              "    .colab-df-buttons div {\n",
              "      margin-bottom: 4px;\n",
              "    }\n",
              "\n",
              "    [theme=dark] .colab-df-convert {\n",
              "      background-color: #3B4455;\n",
              "      fill: #D2E3FC;\n",
              "    }\n",
              "\n",
              "    [theme=dark] .colab-df-convert:hover {\n",
              "      background-color: #434B5C;\n",
              "      box-shadow: 0px 1px 3px 1px rgba(0, 0, 0, 0.15);\n",
              "      filter: drop-shadow(0px 1px 2px rgba(0, 0, 0, 0.3));\n",
              "      fill: #FFFFFF;\n",
              "    }\n",
              "  </style>\n",
              "\n",
              "    <script>\n",
              "      const buttonEl =\n",
              "        document.querySelector('#df-ed0ee540-683a-4945-8884-3260c92ef000 button.colab-df-convert');\n",
              "      buttonEl.style.display =\n",
              "        google.colab.kernel.accessAllowed ? 'block' : 'none';\n",
              "\n",
              "      async function convertToInteractive(key) {\n",
              "        const element = document.querySelector('#df-ed0ee540-683a-4945-8884-3260c92ef000');\n",
              "        const dataTable =\n",
              "          await google.colab.kernel.invokeFunction('convertToInteractive',\n",
              "                                                    [key], {});\n",
              "        if (!dataTable) return;\n",
              "\n",
              "        const docLinkHtml = 'Like what you see? Visit the ' +\n",
              "          '<a target=\"_blank\" href=https://colab.research.google.com/notebooks/data_table.ipynb>data table notebook</a>'\n",
              "          + ' to learn more about interactive tables.';\n",
              "        element.innerHTML = '';\n",
              "        dataTable['output_type'] = 'display_data';\n",
              "        await google.colab.output.renderOutput(dataTable, element);\n",
              "        const docLink = document.createElement('div');\n",
              "        docLink.innerHTML = docLinkHtml;\n",
              "        element.appendChild(docLink);\n",
              "      }\n",
              "    </script>\n",
              "  </div>\n",
              "\n",
              "\n",
              "<div id=\"df-2a741f59-55fa-4f28-9e47-4bbb061cc5c4\">\n",
              "  <button class=\"colab-df-quickchart\" onclick=\"quickchart('df-2a741f59-55fa-4f28-9e47-4bbb061cc5c4')\"\n",
              "            title=\"Suggest charts\"\n",
              "            style=\"display:none;\">\n",
              "\n",
              "<svg xmlns=\"http://www.w3.org/2000/svg\" height=\"24px\"viewBox=\"0 0 24 24\"\n",
              "     width=\"24px\">\n",
              "    <g>\n",
              "        <path d=\"M19 3H5c-1.1 0-2 .9-2 2v14c0 1.1.9 2 2 2h14c1.1 0 2-.9 2-2V5c0-1.1-.9-2-2-2zM9 17H7v-7h2v7zm4 0h-2V7h2v10zm4 0h-2v-4h2v4z\"/>\n",
              "    </g>\n",
              "</svg>\n",
              "  </button>\n",
              "\n",
              "<style>\n",
              "  .colab-df-quickchart {\n",
              "      --bg-color: #E8F0FE;\n",
              "      --fill-color: #1967D2;\n",
              "      --hover-bg-color: #E2EBFA;\n",
              "      --hover-fill-color: #174EA6;\n",
              "      --disabled-fill-color: #AAA;\n",
              "      --disabled-bg-color: #DDD;\n",
              "  }\n",
              "\n",
              "  [theme=dark] .colab-df-quickchart {\n",
              "      --bg-color: #3B4455;\n",
              "      --fill-color: #D2E3FC;\n",
              "      --hover-bg-color: #434B5C;\n",
              "      --hover-fill-color: #FFFFFF;\n",
              "      --disabled-bg-color: #3B4455;\n",
              "      --disabled-fill-color: #666;\n",
              "  }\n",
              "\n",
              "  .colab-df-quickchart {\n",
              "    background-color: var(--bg-color);\n",
              "    border: none;\n",
              "    border-radius: 50%;\n",
              "    cursor: pointer;\n",
              "    display: none;\n",
              "    fill: var(--fill-color);\n",
              "    height: 32px;\n",
              "    padding: 0;\n",
              "    width: 32px;\n",
              "  }\n",
              "\n",
              "  .colab-df-quickchart:hover {\n",
              "    background-color: var(--hover-bg-color);\n",
              "    box-shadow: 0 1px 2px rgba(60, 64, 67, 0.3), 0 1px 3px 1px rgba(60, 64, 67, 0.15);\n",
              "    fill: var(--button-hover-fill-color);\n",
              "  }\n",
              "\n",
              "  .colab-df-quickchart-complete:disabled,\n",
              "  .colab-df-quickchart-complete:disabled:hover {\n",
              "    background-color: var(--disabled-bg-color);\n",
              "    fill: var(--disabled-fill-color);\n",
              "    box-shadow: none;\n",
              "  }\n",
              "\n",
              "  .colab-df-spinner {\n",
              "    border: 2px solid var(--fill-color);\n",
              "    border-color: transparent;\n",
              "    border-bottom-color: var(--fill-color);\n",
              "    animation:\n",
              "      spin 1s steps(1) infinite;\n",
              "  }\n",
              "\n",
              "  @keyframes spin {\n",
              "    0% {\n",
              "      border-color: transparent;\n",
              "      border-bottom-color: var(--fill-color);\n",
              "      border-left-color: var(--fill-color);\n",
              "    }\n",
              "    20% {\n",
              "      border-color: transparent;\n",
              "      border-left-color: var(--fill-color);\n",
              "      border-top-color: var(--fill-color);\n",
              "    }\n",
              "    30% {\n",
              "      border-color: transparent;\n",
              "      border-left-color: var(--fill-color);\n",
              "      border-top-color: var(--fill-color);\n",
              "      border-right-color: var(--fill-color);\n",
              "    }\n",
              "    40% {\n",
              "      border-color: transparent;\n",
              "      border-right-color: var(--fill-color);\n",
              "      border-top-color: var(--fill-color);\n",
              "    }\n",
              "    60% {\n",
              "      border-color: transparent;\n",
              "      border-right-color: var(--fill-color);\n",
              "    }\n",
              "    80% {\n",
              "      border-color: transparent;\n",
              "      border-right-color: var(--fill-color);\n",
              "      border-bottom-color: var(--fill-color);\n",
              "    }\n",
              "    90% {\n",
              "      border-color: transparent;\n",
              "      border-bottom-color: var(--fill-color);\n",
              "    }\n",
              "  }\n",
              "</style>\n",
              "\n",
              "  <script>\n",
              "    async function quickchart(key) {\n",
              "      const quickchartButtonEl =\n",
              "        document.querySelector('#' + key + ' button');\n",
              "      quickchartButtonEl.disabled = true;  // To prevent multiple clicks.\n",
              "      quickchartButtonEl.classList.add('colab-df-spinner');\n",
              "      try {\n",
              "        const charts = await google.colab.kernel.invokeFunction(\n",
              "            'suggestCharts', [key], {});\n",
              "      } catch (error) {\n",
              "        console.error('Error during call to suggestCharts:', error);\n",
              "      }\n",
              "      quickchartButtonEl.classList.remove('colab-df-spinner');\n",
              "      quickchartButtonEl.classList.add('colab-df-quickchart-complete');\n",
              "    }\n",
              "    (() => {\n",
              "      let quickchartButtonEl =\n",
              "        document.querySelector('#df-2a741f59-55fa-4f28-9e47-4bbb061cc5c4 button');\n",
              "      quickchartButtonEl.style.display =\n",
              "        google.colab.kernel.accessAllowed ? 'block' : 'none';\n",
              "    })();\n",
              "  </script>\n",
              "</div>\n",
              "    </div>\n",
              "  </div>\n"
            ],
            "application/vnd.google.colaboratory.intrinsic+json": {
              "type": "dataframe",
              "variable_name": "contentdf"
            }
          },
          "metadata": {},
          "execution_count": 7
        },
        {
          "output_type": "stream",
          "name": "stdout",
          "text": [
            "Warning: Total number of columns (61) exceeds max_columns (20) limiting to first (20) columns.\n"
          ]
        }
      ]
    },
    {
      "cell_type": "code",
      "source": [
        "contentdf.shape"
      ],
      "metadata": {
        "colab": {
          "base_uri": "https://localhost:8080/"
        },
        "id": "1kBQuM8YHScf",
        "outputId": "87c2bbdb-d3de-4aba-e243-acf4c0d58c08"
      },
      "execution_count": 7,
      "outputs": [
        {
          "output_type": "execute_result",
          "data": {
            "text/plain": [
              "(23929, 61)"
            ]
          },
          "metadata": {},
          "execution_count": 7
        }
      ]
    },
    {
      "cell_type": "code",
      "source": [
        "contentdf.isnull().sum()"
      ],
      "metadata": {
        "colab": {
          "base_uri": "https://localhost:8080/"
        },
        "id": "IzEnY267MnHD",
        "outputId": "338d95f4-6df3-439b-a21a-ca3cea8788fe"
      },
      "execution_count": 119,
      "outputs": [
        {
          "output_type": "execute_result",
          "data": {
            "text/plain": [
              "url                              0\n",
              " timedelta                       0\n",
              " n_tokens_title                  0\n",
              " n_tokens_content                0\n",
              " n_unique_tokens                 0\n",
              "                                ..\n",
              " title_sentiment_polarity        0\n",
              " abs_title_subjectivity          0\n",
              " abs_title_sentiment_polarity    0\n",
              " shares                          0\n",
              "viral                            0\n",
              "Length: 62, dtype: int64"
            ]
          },
          "metadata": {},
          "execution_count": 119
        }
      ]
    },
    {
      "cell_type": "markdown",
      "source": [
        "cek dan hapus nilai nilai yang kosong"
      ],
      "metadata": {
        "id": "j7mUlRqwbdKF"
      }
    },
    {
      "cell_type": "code",
      "source": [
        "# Memeriksa nilai yang hilang\n",
        "missing_values = contentdf.isnull().sum()\n",
        "missing_values[missing_values > 0]"
      ],
      "metadata": {
        "colab": {
          "base_uri": "https://localhost:8080/"
        },
        "id": "a9uJTT9aHaL8",
        "outputId": "afeda0cb-a03b-4e23-ae22-d63f5e5b1554"
      },
      "execution_count": 120,
      "outputs": [
        {
          "output_type": "execute_result",
          "data": {
            "text/plain": [
              "Series([], dtype: int64)"
            ]
          },
          "metadata": {},
          "execution_count": 120
        }
      ]
    },
    {
      "cell_type": "code",
      "source": [
        "NA = contentdf.isnull().sum()\n",
        "totalcell = np.product(contentdf.shape)\n",
        "missing = NA.sum()\n",
        "print(missing/totalcell*100)"
      ],
      "metadata": {
        "colab": {
          "base_uri": "https://localhost:8080/"
        },
        "id": "PbNA_JjZSA9S",
        "outputId": "1908b971-8274-4e74-fbaa-98d4958ac0e7"
      },
      "execution_count": 121,
      "outputs": [
        {
          "output_type": "stream",
          "name": "stdout",
          "text": [
            "0.0\n"
          ]
        }
      ]
    },
    {
      "cell_type": "code",
      "source": [
        "contentdf= contentdf.dropna()\n",
        "NA = contentdf.isnull().sum()\n",
        "totalcell = np.product(contentdf.shape)\n",
        "missing = NA.sum()\n",
        "print(missing/totalcell*100)"
      ],
      "metadata": {
        "colab": {
          "base_uri": "https://localhost:8080/"
        },
        "id": "MGZxOoFxSGkH",
        "outputId": "bd9e66c3-b422-4f48-e3c6-b907c972bd4a"
      },
      "execution_count": 122,
      "outputs": [
        {
          "output_type": "stream",
          "name": "stdout",
          "text": [
            "0.0\n"
          ]
        }
      ]
    },
    {
      "cell_type": "code",
      "source": [
        "print(contentdf.columns.tolist())"
      ],
      "metadata": {
        "colab": {
          "base_uri": "https://localhost:8080/"
        },
        "id": "-z5ku-PFKIWq",
        "outputId": "83aae3a2-fe56-4660-c369-6f26351c3a3e"
      },
      "execution_count": 10,
      "outputs": [
        {
          "output_type": "stream",
          "name": "stdout",
          "text": [
            "['url', ' timedelta', ' n_tokens_title', ' n_tokens_content', ' n_unique_tokens', ' n_non_stop_words', ' n_non_stop_unique_tokens', ' num_hrefs', ' num_self_hrefs', ' num_imgs', ' num_videos', ' average_token_length', ' num_keywords', ' data_channel_is_lifestyle', ' data_channel_is_entertainment', ' data_channel_is_bus', ' data_channel_is_socmed', ' data_channel_is_tech', ' data_channel_is_world', ' kw_min_min', ' kw_max_min', ' kw_avg_min', ' kw_min_max', ' kw_max_max', ' kw_avg_max', ' kw_min_avg', ' kw_max_avg', ' kw_avg_avg', ' self_reference_min_shares', ' self_reference_max_shares', ' self_reference_avg_sharess', ' weekday_is_monday', ' weekday_is_tuesday', ' weekday_is_wednesday', ' weekday_is_thursday', ' weekday_is_friday', ' weekday_is_saturday', ' weekday_is_sunday', ' is_weekend', ' LDA_00', ' LDA_01', ' LDA_02', ' LDA_03', ' LDA_04', ' global_subjectivity', ' global_sentiment_polarity', ' global_rate_positive_words', ' global_rate_negative_words', ' rate_positive_words', ' rate_negative_words', ' avg_positive_polarity', ' min_positive_polarity', ' max_positive_polarity', ' avg_negative_polarity', ' min_negative_polarity', ' max_negative_polarity', ' title_subjectivity', ' title_sentiment_polarity', ' abs_title_subjectivity', ' abs_title_sentiment_polarity', ' shares']\n"
          ]
        }
      ]
    },
    {
      "cell_type": "code",
      "source": [
        "contentdf['viral'] = contentdf[' shares'] >= 700\n",
        "contentdf[[' shares', 'viral']].shape"
      ],
      "metadata": {
        "colab": {
          "base_uri": "https://localhost:8080/"
        },
        "id": "cj9Gb2PaJRaM",
        "outputId": "3e2f05d6-5f60-454a-b360-3a10add798be"
      },
      "execution_count": 11,
      "outputs": [
        {
          "output_type": "execute_result",
          "data": {
            "text/plain": [
              "(23929, 2)"
            ]
          },
          "metadata": {},
          "execution_count": 11
        }
      ]
    },
    {
      "cell_type": "code",
      "source": [
        "contentdf[' shares'].value_counts()"
      ],
      "metadata": {
        "colab": {
          "base_uri": "https://localhost:8080/"
        },
        "id": "7rJN9TmG_DZz",
        "outputId": "8f59b1fc-a302-47f6-d5c2-b940a99cfe98"
      },
      "execution_count": 12,
      "outputs": [
        {
          "output_type": "execute_result",
          "data": {
            "text/plain": [
              " shares\n",
              "1100.0     1296\n",
              "1200.0     1163\n",
              "1300.0      999\n",
              "1400.0      919\n",
              "1500.0      782\n",
              "           ... \n",
              "137.0         1\n",
              "134.0         1\n",
              "186.0         1\n",
              "51.0          1\n",
              "34600.0       1\n",
              "Name: count, Length: 1306, dtype: int64"
            ]
          },
          "metadata": {},
          "execution_count": 12
        }
      ]
    },
    {
      "cell_type": "markdown",
      "source": [
        "distribusi persebaran shares dibawah 5000, karena diatas 5000 persebaran tidak terlalu kelihatan"
      ],
      "metadata": {
        "id": "zWsBFIoXbg8n"
      }
    },
    {
      "cell_type": "code",
      "source": [
        "plt.figure(figsize=(10, 6))\n",
        "filtered_data = contentdf[contentdf[' shares'] <= 5000]\n",
        "sns.histplot(filtered_data[' shares'], kde=True)\n",
        "plt.title('Distribution of shares')\n",
        "plt.show()"
      ],
      "metadata": {
        "colab": {
          "base_uri": "https://localhost:8080/",
          "height": 564
        },
        "id": "A97IkeE0PsP3",
        "outputId": "a7985e76-1dd2-4971-d46e-2c2790363d7e"
      },
      "execution_count": 132,
      "outputs": [
        {
          "output_type": "display_data",
          "data": {
            "text/plain": [
              "<Figure size 1000x600 with 1 Axes>"
            ],
            "image/png": "[encoded data removed]"
          },
          "metadata": {}
        }
      ]
    },
    {
      "cell_type": "markdown",
      "source": [
        "training AI"
      ],
      "metadata": {
        "id": "Z7kQLpBUcF35"
      }
    },
    {
      "cell_type": "code",
      "source": [
        "# Select relevant features\n",
        "features = [\n",
        "    ' timedelta', ' n_tokens_title', ' n_tokens_content', ' n_unique_tokens',\n",
        "    ' n_non_stop_words', ' n_non_stop_unique_tokens', ' num_hrefs', ' num_self_hrefs',\n",
        "    ' num_imgs', ' num_videos', ' average_token_length', ' num_keywords',\n",
        "    ' data_channel_is_lifestyle', ' data_channel_is_entertainment',\n",
        "    ' data_channel_is_bus', ' data_channel_is_socmed', ' data_channel_is_tech',\n",
        "    ' data_channel_is_world', ' kw_min_min', ' kw_max_min', ' kw_avg_min', ' kw_min_max',\n",
        "    ' kw_max_max', ' kw_avg_max', ' kw_min_avg', ' kw_max_avg', ' kw_avg_avg',\n",
        "    ' self_reference_min_shares', ' self_reference_max_shares', ' self_reference_avg_sharess',\n",
        "    ' weekday_is_monday', ' weekday_is_tuesday', ' weekday_is_wednesday', ' weekday_is_thursday',\n",
        "    ' weekday_is_friday', ' weekday_is_saturday', ' weekday_is_sunday', ' is_weekend',\n",
        "    ' LDA_00', ' LDA_01', ' LDA_02', ' LDA_03', ' LDA_04', ' global_subjectivity',\n",
        "    ' global_sentiment_polarity', ' global_rate_positive_words', ' global_rate_negative_words',\n",
        "    ' rate_positive_words', ' rate_negative_words', ' avg_positive_polarity',\n",
        "    ' min_positive_polarity', ' max_positive_polarity', ' avg_negative_polarity',\n",
        "    ' min_negative_polarity', ' max_negative_polarity', ' title_subjectivity',\n",
        "    ' title_sentiment_polarity', ' abs_title_subjectivity', ' abs_title_sentiment_polarity'\n",
        "]\n",
        "\n",
        "X = contentdf[features]\n",
        "y = contentdf[' shares']"
      ],
      "metadata": {
        "id": "nWjfvWsBu8Hz"
      },
      "execution_count": 57,
      "outputs": []
    },
    {
      "cell_type": "code",
      "source": [
        "# Mengatasi missing values (jika ada)\n",
        "imputer = SimpleImputer(strategy='mean')\n",
        "X = imputer.fit_transform(X)\n",
        "\n",
        "# Membagi dataset menjadi training dan testing set\n",
        "X_train, X_test, y_train, y_test = train_test_split(X, y, test_size=0.2, random_state=42)\n",
        "\n",
        "# Melatih model Naive Bayes\n",
        "nb_model = GaussianNB()\n",
        "nb_model.fit(X_train, y_train)\n",
        "\n",
        "# Memprediksi nilai shares pada data testing\n",
        "y_pred = nb_model.predict(X_test)\n",
        "\n",
        "# Evaluasi kinerja model\n",
        "accuracy = accuracy_score(y_test, y_pred)\n",
        "precision = precision_score(y_test, y_pred, average='weighted')\n",
        "\n",
        "print(f'Accuracy: {accuracy}')\n",
        "print(f'Precision: {precision}')"
      ],
      "metadata": {
        "colab": {
          "base_uri": "https://localhost:8080/"
        },
        "id": "MeNJjs9ZUbxq",
        "outputId": "93bd0e8a-a546-499a-f883-9026edf4d041"
      },
      "execution_count": 19,
      "outputs": [
        {
          "output_type": "stream",
          "name": "stdout",
          "text": [
            "Accuracy: 0.014492753623188406\n",
            "Precision: 0.013438003220611916\n"
          ]
        },
        {
          "output_type": "stream",
          "name": "stderr",
          "text": [
            "/usr/local/lib/python3.10/dist-packages/sklearn/metrics/_classification.py:1344: UndefinedMetricWarning: Precision is ill-defined and being set to 0.0 in labels with no predicted samples. Use `zero_division` parameter to control this behavior.\n",
            "  _warn_prf(average, modifier, msg_start, len(result))\n"
          ]
        }
      ]
    },
    {
      "cell_type": "code",
      "source": [
        "# Menentukan variabel target\n",
        "contentdf['viral'] = contentdf[' shares'] >= 700\n",
        "\n",
        "# Pilih fitur dan target\n",
        "X = contentdf[features]\n",
        "y = contentdf['viral']\n",
        "\n",
        "# Mengatasi missing values (jika ada)\n",
        "imputer = SimpleImputer(strategy='mean')\n",
        "X = imputer.fit_transform(X)\n",
        "\n",
        "# Membagi dataset menjadi training dan testing set\n",
        "X_train, X_test, y_train, y_test = train_test_split(X, y, test_size=0.2, random_state=42)\n",
        "\n",
        "# Melatih model Naive Bayes\n",
        "nb_model = GaussianNB()\n",
        "nb_model.fit(X_train, y_train)\n",
        "\n",
        "# Memprediksi nilai shares pada data testing\n",
        "y_pred = nb_model.predict(X_test)\n",
        "\n",
        "# Evaluasi kinerja model\n",
        "accuracy = accuracy_score(y_test, y_pred)\n",
        "precision = precision_score(y_test, y_pred, average='weighted')\n",
        "\n",
        "print(f'Accuracy: {accuracy}')\n",
        "print(f'Precision: {precision}')"
      ],
      "metadata": {
        "colab": {
          "base_uri": "https://localhost:8080/"
        },
        "id": "rCPsJ079UouT",
        "outputId": "406f2b84-846d-4c08-9ece-1ce6d69c5d37"
      },
      "execution_count": 90,
      "outputs": [
        {
          "output_type": "stream",
          "name": "stdout",
          "text": [
            "Accuracy: 0.5942028985507246\n",
            "Precision: 0.7817079152731325\n"
          ]
        }
      ]
    },
    {
      "cell_type": "code",
      "source": [
        "\n",
        "# Mengubah nilai 'shares' menjadi variabel biner 'viral'\n",
        "contentdf['viral'] = contentdf[' shares'] >= 700\n",
        "\n",
        "# Pilih fitur dan target\n",
        "X = contentdf[features]\n",
        "y = contentdf['viral']\n",
        "\n",
        "# Mengatasi missing values (jika ada)\n",
        "imputer = SimpleImputer(strategy='mean')\n",
        "X = imputer.fit_transform(X)\n",
        "\n",
        "# Normalisasi data\n",
        "scaler = StandardScaler()\n",
        "X = scaler.fit_transform(X)\n",
        "\n",
        "# Seleksi fitur menggunakan SelectKBest\n",
        "selector = SelectKBest(score_func=f_classif, k=20)  # Misalnya, kita pilih 20 fitur terbaik\n",
        "X_new = selector.fit_transform(X, y)\n",
        "\n",
        "# Menyimpan hasil evaluasi\n",
        "accuracy_scores = []\n",
        "precision_scores = []\n",
        "\n",
        "# Inisialisasi jumlah epoch dan iterasi\n",
        "epochs = 10000\n",
        "epoch = 0\n",
        "\n",
        "progress_bar = tqdm(total=epochs, desc='Training Progress', position=0)\n",
        "while epoch < epochs:\n",
        "    # Membagi dataset menjadi training dan testing set\n",
        "    X_train, X_test, y_train, y_test = train_test_split(X_new, y, test_size=0.2, random_state=epoch)\n",
        "\n",
        "    # Melatih model Naive Bayes\n",
        "    nb_model = GaussianNB()\n",
        "    nb_model.fit(X_train, y_train)\n",
        "\n",
        "    # Memprediksi nilai shares pada data testing\n",
        "    y_pred = nb_model.predict(X_test)\n",
        "\n",
        "    # Evaluasi kinerja model pada test set\n",
        "    accuracy = accuracy_score(y_test, y_pred)\n",
        "    precision = precision_score(y_test, y_pred, average='weighted')\n",
        "\n",
        "    # Menyimpan hasil evaluasi\n",
        "    accuracy_scores.append(accuracy)\n",
        "    precision_scores.append(precision)\n",
        "\n",
        "    # Increment epoch\n",
        "    epoch += 1\n",
        "\n",
        "    # Update bar progres\n",
        "    progress_bar.update(1)\n",
        "\n",
        "# Menutup bar progres setelah selesai\n",
        "progress_bar.close()\n",
        "\n",
        "# Menghitung rata-rata dan standar deviasi dari metrik\n",
        "# Menghitung rata-rata dan standar deviasi dari metrik\n",
        "print()\n",
        "mean_accuracy_percent = np.mean(accuracy_scores) * 100\n",
        "std_accuracy_percent = np.std(accuracy_scores) * 100\n",
        "mean_precision_percent = np.mean(precision_scores) * 100\n",
        "std_precision_percent = np.std(precision_scores) * 100\n",
        "\n",
        "print(f'Mean Accuracy: {mean_accuracy_percent:.2f}% ± {std_accuracy_percent:.2f}%')\n",
        "print(f'Mean Precision: {mean_precision_percent:.2f}% ± {std_precision_percent:.2f}%')"
      ],
      "metadata": {
        "colab": {
          "base_uri": "https://localhost:8080/"
        },
        "id": "8ewGMxQuU_VZ",
        "outputId": "ef206bb3-159e-4a42-93d7-7d0e67a59a08"
      },
      "execution_count": 133,
      "outputs": [
        {
          "output_type": "stream",
          "name": "stderr",
          "text": [
            "Training Progress: 100%|██████████| 10000/10000 [01:07<00:00, 147.87it/s]"
          ]
        },
        {
          "output_type": "stream",
          "name": "stdout",
          "text": [
            "\n",
            "Mean Accuracy: 24.68% ± 2.11%\n",
            "Mean Precision: 82.69% ± 3.63%\n"
          ]
        },
        {
          "output_type": "stream",
          "name": "stderr",
          "text": [
            "\n"
          ]
        }
      ]
    },
    {
      "cell_type": "code",
      "source": [
        "# Data baru yang akan dievaluasi (misalkan kita punya beberapa contoh baru)\n",
        "new_articles_data = [\n",
        "    {' n_tokens_title': 12, ' n_tokens_content': 800, ' n_unique_tokens': 0.6, ' n_non_stop_words': 0.85,\n",
        "     ' n_non_stop_unique_tokens': 0.65, ' num_hrefs': 10, ' num_self_hrefs': 3, ' num_imgs': 5, ' num_videos': 20,\n",
        "     ' average_token_length': 5, ' num_keywords': 8, ' data_channel_is_lifestyle': 1, ' data_channel_is_entertainment': 0,\n",
        "     ' data_channel_is_bus': 0, ' data_channel_is_socmed': 1, ' data_channel_is_tech': 0, ' data_channel_is_world': 0,\n",
        "     ' kw_min_min': 3, ' kw_max_min': 60, ' shares': 12000},\n",
        "    {' n_tokens_title': 15, ' n_tokens_content': 1500, ' n_unique_tokens': 0.7, ' n_non_stop_words': 0.9,\n",
        "     ' n_non_stop_unique_tokens': 0.75, ' num_hrefs': 15, ' num_self_hrefs': 5, ' num_imgs': 10, ' num_videos': 30,\n",
        "     ' average_token_length': 5.2, ' num_keywords': 10, ' data_channel_is_lifestyle': 0, ' data_channel_is_entertainment': 1,\n",
        "     ' data_channel_is_bus': 0, ' data_channel_is_socmed': 0, ' data_channel_is_tech': 0, ' data_channel_is_world': 0,\n",
        "     ' kw_min_min': 5, ' kw_max_min': 70, ' shares': 15000},\n",
        "    {' n_tokens_title': 10, ' n_tokens_content': 500, ' n_unique_tokens': 0.5, ' n_non_stop_words': 0.8,\n",
        "     ' n_non_stop_unique_tokens': 0.6, ' num_hrefs': 5, ' num_self_hrefs': 2, ' num_imgs': 3, ' num_videos': 5,\n",
        "     ' average_token_length': 4.5, ' num_keywords': 7, ' data_channel_is_lifestyle': 1, ' data_channel_is_entertainment': 0,\n",
        "     ' data_channel_is_bus': 0, ' data_channel_is_socmed': 1, ' data_channel_is_tech': 0, ' data_channel_is_world': 0,\n",
        "     ' kw_min_min': 2, ' kw_max_min': 50, ' shares': 3000},\n",
        "    {' n_tokens_title': 0, ' n_tokens_content': 2000, ' n_unique_tokens': 0, ' n_non_stop_words': 0,\n",
        "     ' n_non_stop_unique_tokens': 0, ' num_hrefs': 0, ' num_self_hrefs': 0, ' num_imgs': 0, ' num_videos': 7,\n",
        "     ' average_token_length': 0, ' num_keywords': 0, ' data_channel_is_lifestyle': 0, ' data_channel_is_entertainment': 0,\n",
        "     ' data_channel_is_bus': 0, ' data_channel_is_socmed': 1, ' data_channel_is_tech': 0, ' data_channel_is_world': 0,\n",
        "     ' kw_min_min': 0, ' kw_max_min': 0, ' shares': 0},\n",
        "    {' n_tokens_title': 0, ' n_tokens_content': 800, ' n_unique_tokens': 0, ' n_non_stop_words': 0,\n",
        "     ' n_non_stop_unique_tokens': 0, ' num_hrefs': 0, ' num_self_hrefs': 0, ' num_imgs': 0, ' num_videos': 15,\n",
        "     ' average_token_length': 0, ' num_keywords': 0, ' data_channel_is_lifestyle': 0, ' data_channel_is_entertainment': 0,\n",
        "     ' data_channel_is_bus': 0, ' data_channel_is_socmed': 1, ' data_channel_is_tech': 0, ' data_channel_is_world': 0,\n",
        "     ' kw_min_min': 0, ' kw_max_min': 0, ' data_channel_is_socmed': 0.2, ' shares': 1000},\n",
        "    {' n_tokens_title': 25, ' n_tokens_content': 800, ' n_unique_tokens': 0.2, ' n_non_stop_words': 1,\n",
        "     ' n_non_stop_unique_tokens': 0.6, ' num_hrefs': 10, ' num_self_hrefs': 5, ' num_imgs': 20, ' num_videos': 25,\n",
        "     ' average_token_length': 0, ' num_keywords': 0, ' data_channel_is_lifestyle': 0, ' data_channel_is_entertainment': 0,\n",
        "     ' data_channel_is_bus': 0, ' data_channel_is_socmed': 1, ' data_channel_is_tech': 0, ' data_channel_is_world': 0,\n",
        "     ' kw_min_min': 0, ' kw_max_min': 0, ' shares': 2500},\n",
        "    {' n_tokens_title': 12, ' n_tokens_content': 1200, ' n_unique_tokens': 0.65, ' n_non_stop_words': 0.87,\n",
        "     ' n_non_stop_unique_tokens': 0.7, ' num_hrefs': 12, ' num_self_hrefs': 4, ' num_imgs': 8, ' num_videos': 18,\n",
        "     ' average_token_length': 5.1, ' num_keywords': 9, ' data_channel_is_lifestyle': 0, ' data_channel_is_entertainment': 1,\n",
        "     ' data_channel_is_bus': 0, ' data_channel_is_socmed': 0,      ' data_channel_is_tech': 0, ' data_channel_is_world': 0,\n",
        "     ' kw_min_min': 4, ' kw_max_min': 65, ' shares': 8000},\n",
        "    {' n_tokens_title': 14, ' n_tokens_content': 1000, ' n_unique_tokens': 0.55, ' n_non_stop_words': 0.84,\n",
        "     ' n_non_stop_unique_tokens': 0.62, ' num_hrefs': 8, ' num_self_hrefs': 3, ' num_imgs': 6, ' num_videos': 12,\n",
        "     ' average_token_length': 4.7, ' num_keywords': 8, ' data_channel_is_lifestyle': 1, ' data_channel_is_entertainment': 0,\n",
        "     ' data_channel_is_bus': 0, ' data_channel_is_socmed': 0.7, ' data_channel_is_tech': 0, ' data_channel_is_world': 0,\n",
        "     ' kw_min_min': 3, ' kw_max_min': 55, ' shares': 5000},\n",
        "    {' n_tokens_title': 11, ' n_tokens_content': 700, ' n_unique_tokens': 0.6, ' n_non_stop_words': 0.83,\n",
        "     ' n_non_stop_unique_tokens': 0.64, ' num_hrefs': 6, ' num_self_hrefs': 2, ' num_imgs': 4, ' num_videos': 8,\n",
        "     ' average_token_length': 4.6, ' num_keywords': 7, ' data_channel_is_lifestyle': 1, ' data_channel_is_entertainment': 0,\n",
        "     ' data_channel_is_bus': 0, ' data_channel_is_socmed': 0.9, ' data_channel_is_tech': 0, ' data_channel_is_world': 0,\n",
        "     ' kw_min_min': 2, ' kw_max_min': 52, ' shares': 3500},\n",
        "    {' n_tokens_title': 9, ' n_tokens_content': 400, ' n_unique_tokens': 0.45, ' n_non_stop_words': 0.78,\n",
        "     ' n_non_stop_unique_tokens': 0.58, ' num_hrefs': 4, ' num_self_hrefs': 1, ' num_imgs': 2, ' num_videos': 3,\n",
        "     ' average_token_length': 4.3, ' num_keywords': 6, ' data_channel_is_lifestyle': 1, ' data_channel_is_entertainment': 0,\n",
        "     ' data_channel_is_bus': 0, ' data_channel_is_socmed': 0.5, ' data_channel_is_tech': 0, ' data_channel_is_world': 0,\n",
        "     ' kw_min_min': 2, ' kw_max_min': 48, ' shares': 2000},\n",
        "    {' n_tokens_title': 13, ' n_tokens_content': 900, ' n_unique_tokens': 0.58, ' n_non_stop_words': 0.86,\n",
        "     ' n_non_stop_unique_tokens': 0.67, ' num_hrefs': 9, ' num_self_hrefs': 3, ' num_imgs': 6, ' num_videos': 15,\n",
        "     ' average_token_length': 4.8, ' num_keywords': 7, ' data_channel_is_lifestyle': 0, ' data_channel_is_entertainment': 1,\n",
        "     ' data_channel_is_bus': 0, ' data_channel_is_socmed': 0.8, ' data_channel_is_tech': 0, ' data_channel_is_world': 0,\n",
        "     ' kw_min_min': 3, ' kw_max_min': 57, ' shares': 6500},\n",
        "]\n",
        "\n",
        "\n",
        "# DataFrame dari artikel baru\n",
        "new_articles_df = pd.DataFrame(new_articles_data)\n",
        "new_articles_df = new_articles_df.dropna()\n",
        "\n",
        "threshold_percentage = 90\n",
        "threshold_num_hrefs = np.percentile([article[' num_hrefs'] for article in new_articles_data], threshold_percentage)\n",
        "\n",
        "# Tentukan apakah setiap artikel baru dianggap viral atau tidak\n",
        "actual_viral = [article[' num_hrefs'] >= threshold_num_hrefs for article in new_articles_data]\n",
        "\n",
        "threshold_num_hrefs = np.percentile([article[' shares'] for article in new_articles_data], threshold_percentage)\n",
        "\n",
        "# Tentukan apakah setiap artikel baru dianggap viral atau tidak\n",
        "actual_viral = [article[' shares'] >= threshold_num_hrefs for article in new_articles_data]\n",
        "\n",
        "threshold_num_hrefs = np.percentile([article[' n_tokens_title'] for article in new_articles_data], threshold_percentage)\n",
        "\n",
        "# Tentukan apakah setiap artikel baru dianggap viral atau tidak\n",
        "actual_viral = [article[' n_tokens_title'] >= threshold_num_hrefs for article in new_articles_data]\n",
        "\n",
        "threshold_num_hrefs = np.percentile([article[' n_tokens_content'] for article in new_articles_data], threshold_percentage)\n",
        "\n",
        "# Tentukan apakah setiap artikel baru dianggap viral atau tidak\n",
        "actual_viral = [article[' n_tokens_content'] >= threshold_num_hrefs for article in new_articles_data]\n",
        "\n",
        "threshold_num_hrefs = np.percentile([article[' data_channel_is_socmed'] for article in new_articles_data], threshold_percentage)\n",
        "\n",
        "# Tentukan apakah setiap artikel baru dianggap viral atau tidak\n",
        "actual_viral = [article[' data_channel_is_socmed'] >= threshold_num_hrefs for article in new_articles_data]\n",
        "\n",
        "threshold_num_hrefs = np.percentile([article[' num_videos'] for article in new_articles_data], threshold_percentage)\n",
        "\n",
        "# Tentukan apakah setiap artikel baru dianggap viral atau tidak\n",
        "actual_viral = [article[' num_videos'] >= threshold_num_hrefs for article in new_articles_data]\n",
        "\n",
        "threshold_num_hrefs = np.percentile([article[' num_imgs'] for article in new_articles_data], threshold_percentage)\n",
        "\n",
        "# Tentukan apakah setiap artikel baru dianggap viral atau tidak\n",
        "actual_viral = [article[' num_imgs'] >= threshold_num_hrefs for article in new_articles_data]\n",
        "\n",
        "# Seleksi fitur yang sama seperti saat melatih model\n",
        "selected_features = selector.transform(new_articles_df.values)\n",
        "selected_features_df = pd.DataFrame(selected_features, columns=np.array(features)[selector.get_support()])\n",
        "\n",
        "# Skala fitur-fitur\n",
        "scaled_features_df = pd.DataFrame(scaler.transform(selected_features_df), columns=selected_features_df.columns)\n",
        "\n",
        "# Lakukan prediksi menggunakan model\n",
        "predictions = nb_model.predict(scaled_features_df)\n",
        "\n",
        "# Hitung akurasi secara keseluruhan\n",
        "accuracy = (predictions == actual_viral).mean() * 100\n",
        "\n",
        "print(\"Akurasi Model:\", accuracy, \"%\")"
      ],
      "metadata": {
        "colab": {
          "base_uri": "https://localhost:8080/"
        },
        "id": "16NCKDGEMdH0",
        "outputId": "717a30f2-cec6-4234-c5aa-9d9188ecf6cf"
      },
      "execution_count": 148,
      "outputs": [
        {
          "output_type": "stream",
          "name": "stdout",
          "text": [
            "Akurasi Model: 18.181818181818183 %\n"
          ]
        },
        {
          "output_type": "stream",
          "name": "stderr",
          "text": [
            "/usr/local/lib/python3.10/dist-packages/sklearn/base.py:432: UserWarning: X has feature names, but StandardScaler was fitted without feature names\n",
            "  warnings.warn(\n",
            "/usr/local/lib/python3.10/dist-packages/sklearn/base.py:432: UserWarning: X has feature names, but GaussianNB was fitted without feature names\n",
            "  warnings.warn(\n"
          ]
        }
      ]
    }
  ]
}